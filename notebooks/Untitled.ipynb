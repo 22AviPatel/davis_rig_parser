{
 "cells": [
  {
   "cell_type": "code",
   "execution_count": null,
   "id": "63c9807d",
   "metadata": {},
   "outputs": [],
   "source": [
    "#there are 3 ways to create your dataframe"
   ]
  }
 ],
 "metadata": {
  "kernelspec": {
   "display_name": "Python 3 (ipykernel)",
   "language": "python",
   "name": "python3"
  },
  "language_info": {
   "codemirror_mode": {
    "name": "ipython",
    "version": 3
   },
   "file_extension": ".py",
   "mimetype": "text/x-python",
   "name": "python",
   "nbconvert_exporter": "python",
   "pygments_lexer": "ipython3",
   "version": "3.9.5"
  }
 },
 "nbformat": 4,
 "nbformat_minor": 5
}
